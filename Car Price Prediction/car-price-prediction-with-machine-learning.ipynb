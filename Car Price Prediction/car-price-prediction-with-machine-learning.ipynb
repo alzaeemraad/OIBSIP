{
 "cells": [
  {
   "cell_type": "markdown",
   "id": "1629f2fb",
   "metadata": {
    "papermill": {
     "duration": 0.011874,
     "end_time": "2024-01-18T16:26:01.280987",
     "exception": false,
     "start_time": "2024-01-18T16:26:01.269113",
     "status": "completed"
    },
    "tags": []
   },
   "source": [
    "**Import libraries**"
   ]
  },
  {
   "cell_type": "code",
   "execution_count": 1,
   "id": "9673b0a3",
   "metadata": {
    "_cell_guid": "b1076dfc-b9ad-4769-8c92-a6c4dae69d19",
    "_uuid": "8f2839f25d086af736a60e9eeb907d3b93b6e0e5",
    "execution": {
     "iopub.execute_input": "2024-01-18T16:26:01.307239Z",
     "iopub.status.busy": "2024-01-18T16:26:01.306623Z",
     "iopub.status.idle": "2024-01-18T16:26:04.569879Z",
     "shell.execute_reply": "2024-01-18T16:26:04.568569Z"
    },
    "papermill": {
     "duration": 3.280598,
     "end_time": "2024-01-18T16:26:04.573817",
     "exception": false,
     "start_time": "2024-01-18T16:26:01.293219",
     "status": "completed"
    },
    "tags": []
   },
   "outputs": [],
   "source": [
    "import datetime\n",
    "\n",
    "import numpy as np\n",
    "import pandas as pd\n",
    "\n",
    "import matplotlib.pyplot as plt\n",
    "import seaborn as sns\n",
    "%matplotlib inline\n",
    "\n",
    "from sklearn.model_selection import train_test_split\n",
    "from sklearn.linear_model import LinearRegression\n",
    "from sklearn.ensemble import RandomForestRegressor\n",
    "from sklearn.preprocessing import StandardScaler\n",
    "from sklearn.metrics import r2_score"
   ]
  },
  {
   "cell_type": "markdown",
   "id": "06396aa6",
   "metadata": {
    "papermill": {
     "duration": 0.011394,
     "end_time": "2024-01-18T16:26:04.600108",
     "exception": false,
     "start_time": "2024-01-18T16:26:04.588714",
     "status": "completed"
    },
    "tags": []
   },
   "source": [
    "**Read dataset**"
   ]
  },
  {
   "cell_type": "code",
   "execution_count": 2,
   "id": "eb8bb0dc",
   "metadata": {
    "execution": {
     "iopub.execute_input": "2024-01-18T16:26:04.625657Z",
     "iopub.status.busy": "2024-01-18T16:26:04.624888Z",
     "iopub.status.idle": "2024-01-18T16:26:04.735158Z",
     "shell.execute_reply": "2024-01-18T16:26:04.734163Z"
    },
    "papermill": {
     "duration": 0.12625,
     "end_time": "2024-01-18T16:26:04.738015",
     "exception": false,
     "start_time": "2024-01-18T16:26:04.611765",
     "status": "completed"
    },
    "tags": []
   },
   "outputs": [
    {
     "data": {
      "text/html": [
       "<div>\n",
       "<style scoped>\n",
       "    .dataframe tbody tr th:only-of-type {\n",
       "        vertical-align: middle;\n",
       "    }\n",
       "\n",
       "    .dataframe tbody tr th {\n",
       "        vertical-align: top;\n",
       "    }\n",
       "\n",
       "    .dataframe thead th {\n",
       "        text-align: right;\n",
       "    }\n",
       "</style>\n",
       "<table border=\"1\" class=\"dataframe\">\n",
       "  <thead>\n",
       "    <tr style=\"text-align: right;\">\n",
       "      <th></th>\n",
       "      <th>Unnamed: 0</th>\n",
       "      <th>Name</th>\n",
       "      <th>Location</th>\n",
       "      <th>Year</th>\n",
       "      <th>Kilometers_Driven</th>\n",
       "      <th>Fuel_Type</th>\n",
       "      <th>Transmission</th>\n",
       "      <th>Owner_Type</th>\n",
       "      <th>Mileage</th>\n",
       "      <th>Engine</th>\n",
       "      <th>Power</th>\n",
       "      <th>Seats</th>\n",
       "      <th>New_Price</th>\n",
       "      <th>Price</th>\n",
       "    </tr>\n",
       "  </thead>\n",
       "  <tbody>\n",
       "    <tr>\n",
       "      <th>0</th>\n",
       "      <td>0</td>\n",
       "      <td>Maruti Wagon R LXI CNG</td>\n",
       "      <td>Mumbai</td>\n",
       "      <td>2010</td>\n",
       "      <td>72000</td>\n",
       "      <td>CNG</td>\n",
       "      <td>Manual</td>\n",
       "      <td>First</td>\n",
       "      <td>26.6 km/kg</td>\n",
       "      <td>998 CC</td>\n",
       "      <td>58.16 bhp</td>\n",
       "      <td>5.0</td>\n",
       "      <td>NaN</td>\n",
       "      <td>1.75</td>\n",
       "    </tr>\n",
       "    <tr>\n",
       "      <th>1</th>\n",
       "      <td>1</td>\n",
       "      <td>Hyundai Creta 1.6 CRDi SX Option</td>\n",
       "      <td>Pune</td>\n",
       "      <td>2015</td>\n",
       "      <td>41000</td>\n",
       "      <td>Diesel</td>\n",
       "      <td>Manual</td>\n",
       "      <td>First</td>\n",
       "      <td>19.67 kmpl</td>\n",
       "      <td>1582 CC</td>\n",
       "      <td>126.2 bhp</td>\n",
       "      <td>5.0</td>\n",
       "      <td>NaN</td>\n",
       "      <td>12.50</td>\n",
       "    </tr>\n",
       "    <tr>\n",
       "      <th>2</th>\n",
       "      <td>2</td>\n",
       "      <td>Honda Jazz V</td>\n",
       "      <td>Chennai</td>\n",
       "      <td>2011</td>\n",
       "      <td>46000</td>\n",
       "      <td>Petrol</td>\n",
       "      <td>Manual</td>\n",
       "      <td>First</td>\n",
       "      <td>18.2 kmpl</td>\n",
       "      <td>1199 CC</td>\n",
       "      <td>88.7 bhp</td>\n",
       "      <td>5.0</td>\n",
       "      <td>8.61 Lakh</td>\n",
       "      <td>4.50</td>\n",
       "    </tr>\n",
       "    <tr>\n",
       "      <th>3</th>\n",
       "      <td>3</td>\n",
       "      <td>Maruti Ertiga VDI</td>\n",
       "      <td>Chennai</td>\n",
       "      <td>2012</td>\n",
       "      <td>87000</td>\n",
       "      <td>Diesel</td>\n",
       "      <td>Manual</td>\n",
       "      <td>First</td>\n",
       "      <td>20.77 kmpl</td>\n",
       "      <td>1248 CC</td>\n",
       "      <td>88.76 bhp</td>\n",
       "      <td>7.0</td>\n",
       "      <td>NaN</td>\n",
       "      <td>6.00</td>\n",
       "    </tr>\n",
       "    <tr>\n",
       "      <th>4</th>\n",
       "      <td>4</td>\n",
       "      <td>Audi A4 New 2.0 TDI Multitronic</td>\n",
       "      <td>Coimbatore</td>\n",
       "      <td>2013</td>\n",
       "      <td>40670</td>\n",
       "      <td>Diesel</td>\n",
       "      <td>Automatic</td>\n",
       "      <td>Second</td>\n",
       "      <td>15.2 kmpl</td>\n",
       "      <td>1968 CC</td>\n",
       "      <td>140.8 bhp</td>\n",
       "      <td>5.0</td>\n",
       "      <td>NaN</td>\n",
       "      <td>17.74</td>\n",
       "    </tr>\n",
       "  </tbody>\n",
       "</table>\n",
       "</div>"
      ],
      "text/plain": [
       "   Unnamed: 0                              Name    Location  Year  \\\n",
       "0           0            Maruti Wagon R LXI CNG      Mumbai  2010   \n",
       "1           1  Hyundai Creta 1.6 CRDi SX Option        Pune  2015   \n",
       "2           2                      Honda Jazz V     Chennai  2011   \n",
       "3           3                 Maruti Ertiga VDI     Chennai  2012   \n",
       "4           4   Audi A4 New 2.0 TDI Multitronic  Coimbatore  2013   \n",
       "\n",
       "   Kilometers_Driven Fuel_Type Transmission Owner_Type     Mileage   Engine  \\\n",
       "0              72000       CNG       Manual      First  26.6 km/kg   998 CC   \n",
       "1              41000    Diesel       Manual      First  19.67 kmpl  1582 CC   \n",
       "2              46000    Petrol       Manual      First   18.2 kmpl  1199 CC   \n",
       "3              87000    Diesel       Manual      First  20.77 kmpl  1248 CC   \n",
       "4              40670    Diesel    Automatic     Second   15.2 kmpl  1968 CC   \n",
       "\n",
       "       Power  Seats  New_Price  Price  \n",
       "0  58.16 bhp    5.0        NaN   1.75  \n",
       "1  126.2 bhp    5.0        NaN  12.50  \n",
       "2   88.7 bhp    5.0  8.61 Lakh   4.50  \n",
       "3  88.76 bhp    7.0        NaN   6.00  \n",
       "4  140.8 bhp    5.0        NaN  17.74  "
      ]
     },
     "execution_count": 2,
     "metadata": {},
     "output_type": "execute_result"
    }
   ],
   "source": [
    "dataset = pd.read_csv(\"/kaggle/input/d/raadghazialzaeem/car-price-prediction-dataset/dataset.csv\")\n",
    "dataset.head(5)"
   ]
  },
  {
   "cell_type": "code",
   "execution_count": 3,
   "id": "a4a109ba",
   "metadata": {
    "execution": {
     "iopub.execute_input": "2024-01-18T16:26:04.764502Z",
     "iopub.status.busy": "2024-01-18T16:26:04.763843Z",
     "iopub.status.idle": "2024-01-18T16:26:04.782896Z",
     "shell.execute_reply": "2024-01-18T16:26:04.781218Z"
    },
    "papermill": {
     "duration": 0.036701,
     "end_time": "2024-01-18T16:26:04.786168",
     "exception": false,
     "start_time": "2024-01-18T16:26:04.749467",
     "status": "completed"
    },
    "tags": []
   },
   "outputs": [],
   "source": [
    "X_train, X_test, y_train, y_test = train_test_split(dataset.iloc[:, :-1], \n",
    "                                                    dataset.iloc[:, -1], \n",
    "                                                    test_size = 0.3, \n",
    "                                                    random_state = 42)"
   ]
  },
  {
   "cell_type": "code",
   "execution_count": 4,
   "id": "a31bb629",
   "metadata": {
    "execution": {
     "iopub.execute_input": "2024-01-18T16:26:04.811145Z",
     "iopub.status.busy": "2024-01-18T16:26:04.809746Z",
     "iopub.status.idle": "2024-01-18T16:26:04.821415Z",
     "shell.execute_reply": "2024-01-18T16:26:04.819575Z"
    },
    "papermill": {
     "duration": 0.027051,
     "end_time": "2024-01-18T16:26:04.824516",
     "exception": false,
     "start_time": "2024-01-18T16:26:04.797465",
     "status": "completed"
    },
    "tags": []
   },
   "outputs": [],
   "source": [
    "X_train = X_train.iloc[:, 1:]\n",
    "X_test = X_test.iloc[:, 1:]"
   ]
  },
  {
   "cell_type": "code",
   "execution_count": 5,
   "id": "a17d0700",
   "metadata": {
    "execution": {
     "iopub.execute_input": "2024-01-18T16:26:04.848565Z",
     "iopub.status.busy": "2024-01-18T16:26:04.847983Z",
     "iopub.status.idle": "2024-01-18T16:26:04.883278Z",
     "shell.execute_reply": "2024-01-18T16:26:04.881418Z"
    },
    "papermill": {
     "duration": 0.051247,
     "end_time": "2024-01-18T16:26:04.886346",
     "exception": false,
     "start_time": "2024-01-18T16:26:04.835099",
     "status": "completed"
    },
    "tags": []
   },
   "outputs": [
    {
     "name": "stdout",
     "output_type": "stream",
     "text": [
      "<class 'pandas.core.frame.DataFrame'>\n",
      "Index: 4213 entries, 4201 to 860\n",
      "Data columns (total 12 columns):\n",
      " #   Column             Non-Null Count  Dtype  \n",
      "---  ------             --------------  -----  \n",
      " 0   Name               4213 non-null   object \n",
      " 1   Location           4213 non-null   object \n",
      " 2   Year               4213 non-null   int64  \n",
      " 3   Kilometers_Driven  4213 non-null   int64  \n",
      " 4   Fuel_Type          4213 non-null   object \n",
      " 5   Transmission       4213 non-null   object \n",
      " 6   Owner_Type         4213 non-null   object \n",
      " 7   Mileage            4212 non-null   object \n",
      " 8   Engine             4189 non-null   object \n",
      " 9   Power              4189 non-null   object \n",
      " 10  Seats              4185 non-null   float64\n",
      " 11  New_Price          580 non-null    object \n",
      "dtypes: float64(1), int64(2), object(9)\n",
      "memory usage: 427.9+ KB\n"
     ]
    }
   ],
   "source": [
    "X_train.info()"
   ]
  },
  {
   "cell_type": "markdown",
   "id": "82f42424",
   "metadata": {
    "papermill": {
     "duration": 0.010479,
     "end_time": "2024-01-18T16:26:04.907568",
     "exception": false,
     "start_time": "2024-01-18T16:26:04.897089",
     "status": "completed"
    },
    "tags": []
   },
   "source": [
    "**Exploratory Data Analysis**"
   ]
  },
  {
   "cell_type": "code",
   "execution_count": 6,
   "id": "6f5c701f",
   "metadata": {
    "execution": {
     "iopub.execute_input": "2024-01-18T16:26:04.931700Z",
     "iopub.status.busy": "2024-01-18T16:26:04.931111Z",
     "iopub.status.idle": "2024-01-18T16:26:04.946065Z",
     "shell.execute_reply": "2024-01-18T16:26:04.944530Z"
    },
    "papermill": {
     "duration": 0.030592,
     "end_time": "2024-01-18T16:26:04.948798",
     "exception": false,
     "start_time": "2024-01-18T16:26:04.918206",
     "status": "completed"
    },
    "tags": []
   },
   "outputs": [
    {
     "data": {
      "text/plain": [
       "Name\n",
       "Mahindra XUV500 W8 2WD                35\n",
       "Maruti Swift VDI                      31\n",
       "Maruti Ritz VDi                       26\n",
       "Hyundai i10 Sportz                    25\n",
       "Maruti Swift Dzire VDI                24\n",
       "                                      ..\n",
       "Skoda Laura L and K AT                 1\n",
       "Honda Amaze S Diesel                   1\n",
       "Nissan Micra XE                        1\n",
       "Renault KWID Climber 1.0 MT            1\n",
       "Ford Endeavour 2.2 Titanium AT 4X2     1\n",
       "Name: count, Length: 1592, dtype: int64"
      ]
     },
     "execution_count": 6,
     "metadata": {},
     "output_type": "execute_result"
    }
   ],
   "source": [
    "X_train[\"Name\"].value_counts()"
   ]
  },
  {
   "cell_type": "code",
   "execution_count": 7,
   "id": "be205d79",
   "metadata": {
    "execution": {
     "iopub.execute_input": "2024-01-18T16:26:04.973512Z",
     "iopub.status.busy": "2024-01-18T16:26:04.972990Z",
     "iopub.status.idle": "2024-01-18T16:26:05.003105Z",
     "shell.execute_reply": "2024-01-18T16:26:05.001127Z"
    },
    "papermill": {
     "duration": 0.046966,
     "end_time": "2024-01-18T16:26:05.006649",
     "exception": false,
     "start_time": "2024-01-18T16:26:04.959683",
     "status": "completed"
    },
    "tags": []
   },
   "outputs": [],
   "source": [
    "do_train = X_train[\"Name\"].str.split(\" \", expand = True)\n",
    "do_test = X_test[\"Name\"].str.split(\" \", expand = True)"
   ]
  },
  {
   "cell_type": "code",
   "execution_count": 8,
   "id": "9c96b27e",
   "metadata": {
    "execution": {
     "iopub.execute_input": "2024-01-18T16:26:05.031933Z",
     "iopub.status.busy": "2024-01-18T16:26:05.030856Z",
     "iopub.status.idle": "2024-01-18T16:26:05.040484Z",
     "shell.execute_reply": "2024-01-18T16:26:05.038981Z"
    },
    "papermill": {
     "duration": 0.025632,
     "end_time": "2024-01-18T16:26:05.043251",
     "exception": false,
     "start_time": "2024-01-18T16:26:05.017619",
     "status": "completed"
    },
    "tags": []
   },
   "outputs": [],
   "source": [
    "X_train[\"Manufacturer\"] = do_train[0]\n",
    "X_test[\"Manufacturer\"] = do_test[0]"
   ]
  },
  {
   "cell_type": "code",
   "execution_count": 9,
   "id": "70c8166f",
   "metadata": {
    "execution": {
     "iopub.execute_input": "2024-01-18T16:26:05.067344Z",
     "iopub.status.busy": "2024-01-18T16:26:05.066818Z",
     "iopub.status.idle": "2024-01-18T16:26:06.075193Z",
     "shell.execute_reply": "2024-01-18T16:26:06.073933Z"
    },
    "papermill": {
     "duration": 1.024055,
     "end_time": "2024-01-18T16:26:06.078216",
     "exception": false,
     "start_time": "2024-01-18T16:26:05.054161",
     "status": "completed"
    },
    "tags": []
   },
   "outputs": [
    {
     "data": {
      "text/plain": [
       "Text(0, 0.5, 'Tabulate the quantity of automobiles')"
      ]
     },
     "execution_count": 9,
     "metadata": {},
     "output_type": "execute_result"
    },
    {
     "data": {
      "image/png": "[encoded data removed]",
      "text/plain": [
       "<Figure size 1200x800 with 1 Axes>"
      ]
     },
     "metadata": {},
     "output_type": "display_data"
    }
   ],
   "source": [
    "plt.figure(figsize = (12, 8))\n",
    "plot = sns.countplot(x = 'Manufacturer', data = X_train)\n",
    "plt.xticks(rotation = 90)\n",
    "for p in plot.patches:\n",
    "    plot.annotate(p.get_height(), \n",
    "                        (p.get_x() + p.get_width() / 2.0, \n",
    "                         p.get_height()), \n",
    "                        ha = 'center', \n",
    "                        va = 'center', \n",
    "                        xytext = (0, 5),\n",
    "                        textcoords = 'offset points')\n",
    "\n",
    "plt.title(\"Determine the number of vehicles categorized by their respective manufacturers\")\n",
    "plt.xlabel(\"Manufacturer\")\n",
    "plt.ylabel(\"Tabulate the quantity of automobiles\")"
   ]
  },
  {
   "cell_type": "markdown",
   "id": "15b253cd",
   "metadata": {
    "papermill": {
     "duration": 0.012008,
     "end_time": "2024-01-18T16:26:06.102692",
     "exception": false,
     "start_time": "2024-01-18T16:26:06.090684",
     "status": "completed"
    },
    "tags": []
   },
   "source": [
    "The dataset exhibits the highest number of cars produced by the manufacturer **Maruti**, and there are no instances of missing values."
   ]
  },
  {
   "cell_type": "code",
   "execution_count": 10,
   "id": "b2d0826d",
   "metadata": {
    "execution": {
     "iopub.execute_input": "2024-01-18T16:26:06.130997Z",
     "iopub.status.busy": "2024-01-18T16:26:06.129967Z",
     "iopub.status.idle": "2024-01-18T16:26:06.140403Z",
     "shell.execute_reply": "2024-01-18T16:26:06.139156Z"
    },
    "papermill": {
     "duration": 0.027473,
     "end_time": "2024-01-18T16:26:06.143258",
     "exception": false,
     "start_time": "2024-01-18T16:26:06.115785",
     "status": "completed"
    },
    "tags": []
   },
   "outputs": [],
   "source": [
    "X_train.drop(\"Location\", axis = 1, inplace = True)\n",
    "X_test.drop(\"Location\", axis = 1, inplace = True)"
   ]
  },
  {
   "cell_type": "code",
   "execution_count": 11,
   "id": "d88ba03d",
   "metadata": {
    "execution": {
     "iopub.execute_input": "2024-01-18T16:26:06.169891Z",
     "iopub.status.busy": "2024-01-18T16:26:06.169482Z",
     "iopub.status.idle": "2024-01-18T16:26:06.178778Z",
     "shell.execute_reply": "2024-01-18T16:26:06.177402Z"
    },
    "papermill": {
     "duration": 0.025725,
     "end_time": "2024-01-18T16:26:06.181359",
     "exception": false,
     "start_time": "2024-01-18T16:26:06.155634",
     "status": "completed"
    },
    "tags": []
   },
   "outputs": [],
   "source": [
    "X_train.drop(\"Name\", axis = 1, inplace = True)\n",
    "X_test.drop(\"Name\", axis = 1, inplace = True)"
   ]
  },
  {
   "cell_type": "code",
   "execution_count": 12,
   "id": "a6424a95",
   "metadata": {
    "execution": {
     "iopub.execute_input": "2024-01-18T16:26:06.208504Z",
     "iopub.status.busy": "2024-01-18T16:26:06.208102Z",
     "iopub.status.idle": "2024-01-18T16:26:06.222058Z",
     "shell.execute_reply": "2024-01-18T16:26:06.220924Z"
    },
    "papermill": {
     "duration": 0.030173,
     "end_time": "2024-01-18T16:26:06.224474",
     "exception": false,
     "start_time": "2024-01-18T16:26:06.194301",
     "status": "completed"
    },
    "tags": []
   },
   "outputs": [],
   "source": [
    "#The variable \"Year\" holds no inherent significance unless we analyze it to determine the age of a car, influencing potential impacts on its resale value.\n",
    "\n",
    "curr_time = datetime.datetime.now()\n",
    "X_train['Year'] = X_train['Year'].apply(lambda x : curr_time.year - x)\n",
    "X_test['Year'] = X_test['Year'].apply(lambda x : curr_time.year - x)"
   ]
  },
  {
   "cell_type": "markdown",
   "id": "3efbe26c",
   "metadata": {
    "papermill": {
     "duration": 0.012158,
     "end_time": "2024-01-18T16:26:06.249227",
     "exception": false,
     "start_time": "2024-01-18T16:26:06.237069",
     "status": "completed"
    },
    "tags": []
   },
   "source": [
    "**Fuel_Type, Transmission, and Owner_Type**\n",
    "All these columns are categorical columns which should be converted to dummy variables before being used."
   ]
  },
  {
   "cell_type": "markdown",
   "id": "cdb746ad",
   "metadata": {
    "papermill": {
     "duration": 0.012188,
     "end_time": "2024-01-18T16:26:06.273694",
     "exception": false,
     "start_time": "2024-01-18T16:26:06.261506",
     "status": "completed"
    },
    "tags": []
   },
   "source": [
    "**Kilometers_Driven**"
   ]
  },
  {
   "cell_type": "code",
   "execution_count": 13,
   "id": "26d52702",
   "metadata": {
    "execution": {
     "iopub.execute_input": "2024-01-18T16:26:06.300618Z",
     "iopub.status.busy": "2024-01-18T16:26:06.300195Z",
     "iopub.status.idle": "2024-01-18T16:26:06.309694Z",
     "shell.execute_reply": "2024-01-18T16:26:06.308397Z"
    },
    "papermill": {
     "duration": 0.025652,
     "end_time": "2024-01-18T16:26:06.312041",
     "exception": false,
     "start_time": "2024-01-18T16:26:06.286389",
     "status": "completed"
    },
    "tags": []
   },
   "outputs": [
    {
     "data": {
      "text/plain": [
       "4201     77000\n",
       "4383     19947\n",
       "1779     70963\n",
       "4020    115195\n",
       "3248     58752\n",
       "         ...  \n",
       "3772     27000\n",
       "5191      9000\n",
       "5226    140000\n",
       "5390     76414\n",
       "860      98000\n",
       "Name: Kilometers_Driven, Length: 4213, dtype: int64"
      ]
     },
     "execution_count": 13,
     "metadata": {},
     "output_type": "execute_result"
    }
   ],
   "source": [
    "X_train[\"Kilometers_Driven\"]"
   ]
  },
  {
   "cell_type": "code",
   "execution_count": 14,
   "id": "97bc4d71",
   "metadata": {
    "execution": {
     "iopub.execute_input": "2024-01-18T16:26:06.338900Z",
     "iopub.status.busy": "2024-01-18T16:26:06.338505Z",
     "iopub.status.idle": "2024-01-18T16:26:06.373246Z",
     "shell.execute_reply": "2024-01-18T16:26:06.372105Z"
    },
    "papermill": {
     "duration": 0.051414,
     "end_time": "2024-01-18T16:26:06.376083",
     "exception": false,
     "start_time": "2024-01-18T16:26:06.324669",
     "status": "completed"
    },
    "tags": []
   },
   "outputs": [],
   "source": [
    "X_train[['Mileage_Value', 'Mileage_Unit']] = X_train['Mileage'].str.split(expand=True)\n",
    "X_test[['Mileage_Value', 'Mileage_Unit']] = X_test['Mileage'].str.split(expand=True)\n",
    "\n",
    "X_train['Mileage'] = pd.to_numeric(X_train['Mileage_Value'], errors='coerce')\n",
    "X_test['Mileage'] = pd.to_numeric(X_test['Mileage_Value'], errors='coerce')\n",
    "\n",
    "# Drop intermediate columns if needed\n",
    "X_train.drop(['Mileage_Value', 'Mileage_Unit'], axis=1, inplace=True)\n",
    "X_test.drop(['Mileage_Value', 'Mileage_Unit'], axis=1, inplace=True)"
   ]
  },
  {
   "cell_type": "code",
   "execution_count": 15,
   "id": "e152371b",
   "metadata": {
    "execution": {
     "iopub.execute_input": "2024-01-18T16:26:06.402880Z",
     "iopub.status.busy": "2024-01-18T16:26:06.402491Z",
     "iopub.status.idle": "2024-01-18T16:26:06.410351Z",
     "shell.execute_reply": "2024-01-18T16:26:06.409105Z"
    },
    "papermill": {
     "duration": 0.024043,
     "end_time": "2024-01-18T16:26:06.412722",
     "exception": false,
     "start_time": "2024-01-18T16:26:06.388679",
     "status": "completed"
    },
    "tags": []
   },
   "outputs": [
    {
     "name": "stdout",
     "output_type": "stream",
     "text": [
      "1\n",
      "1\n"
     ]
    }
   ],
   "source": [
    "print(sum(X_train[\"Mileage\"].isnull()))\n",
    "print(sum(X_test[\"Mileage\"].isnull()))"
   ]
  },
  {
   "cell_type": "code",
   "execution_count": 16,
   "id": "be164628",
   "metadata": {
    "execution": {
     "iopub.execute_input": "2024-01-18T16:26:06.440064Z",
     "iopub.status.busy": "2024-01-18T16:26:06.439645Z",
     "iopub.status.idle": "2024-01-18T16:26:06.448787Z",
     "shell.execute_reply": "2024-01-18T16:26:06.447860Z"
    },
    "papermill": {
     "duration": 0.025617,
     "end_time": "2024-01-18T16:26:06.451129",
     "exception": false,
     "start_time": "2024-01-18T16:26:06.425512",
     "status": "completed"
    },
    "tags": []
   },
   "outputs": [],
   "source": [
    "X_train[\"Mileage\"].fillna(X_train[\"Mileage\"].astype(\"float64\").mean(), inplace = True)\n",
    "X_test[\"Mileage\"].fillna(X_train[\"Mileage\"].astype(\"float64\").mean(), inplace = True)"
   ]
  },
  {
   "cell_type": "code",
   "execution_count": 17,
   "id": "43998e0e",
   "metadata": {
    "execution": {
     "iopub.execute_input": "2024-01-18T16:26:06.478472Z",
     "iopub.status.busy": "2024-01-18T16:26:06.477479Z",
     "iopub.status.idle": "2024-01-18T16:26:06.525302Z",
     "shell.execute_reply": "2024-01-18T16:26:06.524278Z"
    },
    "papermill": {
     "duration": 0.064458,
     "end_time": "2024-01-18T16:26:06.528066",
     "exception": false,
     "start_time": "2024-01-18T16:26:06.463608",
     "status": "completed"
    },
    "tags": []
   },
   "outputs": [],
   "source": [
    "def extract_numeric_part(data, column):\n",
    "    data[column] = data[column].str.split(\" \", expand=True)[0]  # Extract first part directly\n",
    "    data[column] = pd.to_numeric(data[column], errors='coerce')  # Convert to numeric\n",
    "\n",
    "# Apply the function to both columns in both DataFrames\n",
    "for df in [X_train, X_test]:\n",
    "    extract_numeric_part(df, 'Engine')\n",
    "    extract_numeric_part(df, 'Power')"
   ]
  },
  {
   "cell_type": "code",
   "execution_count": 18,
   "id": "80d7f84b",
   "metadata": {
    "execution": {
     "iopub.execute_input": "2024-01-18T16:26:06.555021Z",
     "iopub.status.busy": "2024-01-18T16:26:06.554287Z",
     "iopub.status.idle": "2024-01-18T16:26:06.566165Z",
     "shell.execute_reply": "2024-01-18T16:26:06.565172Z"
    },
    "papermill": {
     "duration": 0.028365,
     "end_time": "2024-01-18T16:26:06.568912",
     "exception": false,
     "start_time": "2024-01-18T16:26:06.540547",
     "status": "completed"
    },
    "tags": []
   },
   "outputs": [],
   "source": [
    "def fill_missing_with_mean(data, columns):\n",
    "    for column in columns:\n",
    "        mean_value = data[column].astype(\"float64\").mean()\n",
    "        data[column].fillna(mean_value, inplace=True)\n",
    "\n",
    "# Apply the function to both DataFrames\n",
    "fill_missing_with_mean(X_train, [\"Engine\", \"Power\", \"Seats\"])\n",
    "fill_missing_with_mean(X_test, [\"Engine\", \"Power\", \"Seats\"])"
   ]
  },
  {
   "cell_type": "code",
   "execution_count": 19,
   "id": "392a86ad",
   "metadata": {
    "execution": {
     "iopub.execute_input": "2024-01-18T16:26:06.597816Z",
     "iopub.status.busy": "2024-01-18T16:26:06.597369Z",
     "iopub.status.idle": "2024-01-18T16:26:06.605723Z",
     "shell.execute_reply": "2024-01-18T16:26:06.604841Z"
    },
    "papermill": {
     "duration": 0.026164,
     "end_time": "2024-01-18T16:26:06.607995",
     "exception": false,
     "start_time": "2024-01-18T16:26:06.581831",
     "status": "completed"
    },
    "tags": []
   },
   "outputs": [],
   "source": [
    "X_train.drop([\"New_Price\"], axis = 1, inplace = True)\n",
    "X_test.drop([\"New_Price\"], axis = 1, inplace = True)"
   ]
  },
  {
   "cell_type": "markdown",
   "id": "85ecf3c7",
   "metadata": {
    "papermill": {
     "duration": 0.01222,
     "end_time": "2024-01-18T16:26:06.632774",
     "exception": false,
     "start_time": "2024-01-18T16:26:06.620554",
     "status": "completed"
    },
    "tags": []
   },
   "source": [
    "**Data Processing**"
   ]
  },
  {
   "cell_type": "code",
   "execution_count": 20,
   "id": "6e87bc6e",
   "metadata": {
    "execution": {
     "iopub.execute_input": "2024-01-18T16:26:06.660775Z",
     "iopub.status.busy": "2024-01-18T16:26:06.660372Z",
     "iopub.status.idle": "2024-01-18T16:26:06.676755Z",
     "shell.execute_reply": "2024-01-18T16:26:06.675835Z"
    },
    "papermill": {
     "duration": 0.033532,
     "end_time": "2024-01-18T16:26:06.679489",
     "exception": false,
     "start_time": "2024-01-18T16:26:06.645957",
     "status": "completed"
    },
    "tags": []
   },
   "outputs": [],
   "source": [
    "X_train = pd.get_dummies(X_train,\n",
    "                         columns = [\"Manufacturer\", \"Fuel_Type\", \"Transmission\", \"Owner_Type\"],\n",
    "                         drop_first = True)"
   ]
  },
  {
   "cell_type": "code",
   "execution_count": 21,
   "id": "1a7bacb1",
   "metadata": {
    "execution": {
     "iopub.execute_input": "2024-01-18T16:26:06.710666Z",
     "iopub.status.busy": "2024-01-18T16:26:06.709025Z",
     "iopub.status.idle": "2024-01-18T16:26:06.726090Z",
     "shell.execute_reply": "2024-01-18T16:26:06.724781Z"
    },
    "papermill": {
     "duration": 0.037601,
     "end_time": "2024-01-18T16:26:06.729757",
     "exception": false,
     "start_time": "2024-01-18T16:26:06.692156",
     "status": "completed"
    },
    "tags": []
   },
   "outputs": [],
   "source": [
    "X_test = pd.get_dummies(X_test,\n",
    "                         columns = [\"Manufacturer\", \"Fuel_Type\", \"Transmission\", \"Owner_Type\"],\n",
    "                         drop_first = True)"
   ]
  },
  {
   "cell_type": "code",
   "execution_count": 22,
   "id": "ea969a36",
   "metadata": {
    "execution": {
     "iopub.execute_input": "2024-01-18T16:26:06.759995Z",
     "iopub.status.busy": "2024-01-18T16:26:06.759480Z",
     "iopub.status.idle": "2024-01-18T16:26:06.771242Z",
     "shell.execute_reply": "2024-01-18T16:26:06.769875Z"
    },
    "papermill": {
     "duration": 0.031662,
     "end_time": "2024-01-18T16:26:06.774680",
     "exception": false,
     "start_time": "2024-01-18T16:26:06.743018",
     "status": "completed"
    },
    "tags": []
   },
   "outputs": [],
   "source": [
    "missing_cols = set(X_train.columns) - set(X_test.columns)\n",
    "for col in missing_cols:\n",
    "    X_test[col] = 0\n",
    "X_test = X_test[X_train.columns]"
   ]
  },
  {
   "cell_type": "code",
   "execution_count": 23,
   "id": "dad76887",
   "metadata": {
    "execution": {
     "iopub.execute_input": "2024-01-18T16:26:06.804334Z",
     "iopub.status.busy": "2024-01-18T16:26:06.803681Z",
     "iopub.status.idle": "2024-01-18T16:26:06.831656Z",
     "shell.execute_reply": "2024-01-18T16:26:06.830783Z"
    },
    "papermill": {
     "duration": 0.046405,
     "end_time": "2024-01-18T16:26:06.834773",
     "exception": false,
     "start_time": "2024-01-18T16:26:06.788368",
     "status": "completed"
    },
    "tags": []
   },
   "outputs": [],
   "source": [
    "standardScaler = StandardScaler()\n",
    "standardScaler.fit(X_train)\n",
    "X_train = standardScaler.transform(X_train)\n",
    "X_test = standardScaler.transform(X_test)"
   ]
  },
  {
   "cell_type": "markdown",
   "id": "ca97d4f4",
   "metadata": {
    "papermill": {
     "duration": 0.015592,
     "end_time": "2024-01-18T16:26:06.963806",
     "exception": false,
     "start_time": "2024-01-18T16:26:06.948214",
     "status": "completed"
    },
    "tags": []
   },
   "source": [
    "**Training and predicting**"
   ]
  },
  {
   "cell_type": "code",
   "execution_count": 24,
   "id": "e615f5f5",
   "metadata": {
    "execution": {
     "iopub.execute_input": "2024-01-18T16:26:06.993609Z",
     "iopub.status.busy": "2024-01-18T16:26:06.993126Z",
     "iopub.status.idle": "2024-01-18T16:26:07.056572Z",
     "shell.execute_reply": "2024-01-18T16:26:07.054458Z"
    },
    "papermill": {
     "duration": 0.085655,
     "end_time": "2024-01-18T16:26:07.063877",
     "exception": false,
     "start_time": "2024-01-18T16:26:06.978222",
     "status": "completed"
    },
    "tags": []
   },
   "outputs": [
    {
     "name": "stdout",
     "output_type": "stream",
     "text": [
      "R-squared: 0.7008753339360373\n",
      "Model coefficients:\n",
      " [-3.2024792  -0.53654814 -0.56352308  1.26979282  4.37603214  0.05842877\n",
      " -0.35177362 -1.39416196 -0.44553453 -0.63116474 -0.31015978 -1.9827897\n",
      " -3.11907444 -3.64565231 -0.31808928 -0.15811326  0.43451498 -0.46620612\n",
      "  0.90592791  1.30148724 -2.54003639 -3.30242137 -0.03892202  0.32603596\n",
      " -0.5920364  -1.1959435   0.78132794 -1.47132343 -1.69689857 -1.75495015\n",
      " -2.15002513 -2.24747853 -0.34946646  0.24405657  0.22293835  0.10927736\n",
      " -0.37491724  0.04304497  0.0525248  -0.07565166  0.10267988]\n"
     ]
    }
   ],
   "source": [
    "\n",
    "# Create and fit the model\n",
    "linearRegression = LinearRegression()\n",
    "linearRegression.fit(X_train, y_train)\n",
    "\n",
    "# Make predictions on the test set\n",
    "y_pred = linearRegression.predict(X_test)\n",
    "\n",
    "# Calculate and print R-squared\n",
    "r2 = r2_score(y_test, y_pred)\n",
    "print(\"R-squared:\", r2)  # Print the R-squared value\n",
    "\n",
    "# Print model coefficients for interpretation\n",
    "print(\"Model coefficients:\\n\", linearRegression.coef_)"
   ]
  },
  {
   "cell_type": "code",
   "execution_count": 25,
   "id": "389de099",
   "metadata": {
    "execution": {
     "iopub.execute_input": "2024-01-18T16:26:07.160340Z",
     "iopub.status.busy": "2024-01-18T16:26:07.159491Z",
     "iopub.status.idle": "2024-01-18T16:26:49.407317Z",
     "shell.execute_reply": "2024-01-18T16:26:49.405660Z"
    },
    "papermill": {
     "duration": 42.292993,
     "end_time": "2024-01-18T16:26:49.422751",
     "exception": false,
     "start_time": "2024-01-18T16:26:07.129758",
     "status": "completed"
    },
    "tags": []
   },
   "outputs": [
    {
     "name": "stdout",
     "output_type": "stream",
     "text": [
      "R-squared: 0.8814158400008079\n",
      "Root Mean Squared Error: 3.8191220837339666\n",
      "Feature importances:\n",
      " [1.59233339e-01 5.01094677e-02 2.12837507e-02 5.25160741e-02\n",
      " 6.48144731e-01 9.32744365e-03 2.02107058e-03 2.62562163e-04\n",
      " 2.08364303e-06 1.02774366e-05 5.30421863e-08 6.06203172e-04\n",
      " 1.17492232e-03 8.27245004e-04 4.74843370e-06 7.20961394e-05\n",
      " 1.67434018e-03 3.44901185e-04 1.66723744e-04 2.41348623e-02\n",
      " 1.15882420e-03 1.83622049e-04 5.22442718e-03 3.42468423e-03\n",
      " 1.10308255e-04 4.77426232e-05 6.98611857e-04 1.25607381e-04\n",
      " 5.84449980e-04 2.59097605e-04 1.64399043e-03 8.36701044e-04\n",
      " 1.80485218e-04 1.48828970e-03 7.28908511e-05 6.45762844e-07\n",
      " 1.96973956e-03 7.99810459e-03 2.46208784e-06 1.45927560e-03\n",
      " 6.13144352e-04]\n",
      "Best parameters: {'max_depth': 7, 'n_estimators': 50}\n"
     ]
    }
   ],
   "source": [
    "from sklearn.metrics import r2_score, mean_squared_error\n",
    "# Create and fit the model\n",
    "rf = RandomForestRegressor(n_estimators=100)\n",
    "rf.fit(X_train, y_train)\n",
    "\n",
    "# Make predictions on the test set\n",
    "y_pred = rf.predict(X_test)\n",
    "\n",
    "# Calculate and print evaluation metrics\n",
    "r2 = r2_score(y_test, y_pred)\n",
    "print(\"R-squared:\", r2)\n",
    "\n",
    "# Consider additional metrics (optional) print(\"Mean Absolute Error:\", mean_absolute_error(y_test, y_pred))\n",
    "print(\"Root Mean Squared Error:\", mean_squared_error(y_test, y_pred, squared=False))\n",
    "\n",
    "# Print feature importances for interpretation\n",
    "print(\"Feature importances:\\n\", rf.feature_importances_)\n",
    "\n",
    "# Explore hyperparameter tuning (optional)\n",
    "from sklearn.model_selection import GridSearchCV\n",
    "param_grid = {'n_estimators': [50, 100, 200], 'max_depth': [3, 5, 7]}\n",
    "grid_search = GridSearchCV(rf, param_grid, cv=5)\n",
    "grid_search.fit(X_train, y_train)\n",
    "print(\"Best parameters:\", grid_search.best_params_)"
   ]
  }
 ],
 "metadata": {
  "kaggle": {
   "accelerator": "none",
   "dataSources": [
    {
     "datasetId": 4210881,
     "sourceId": 7265027,
     "sourceType": "datasetVersion"
    },
    {
     "datasetId": 4311633,
     "sourceId": 7412445,
     "sourceType": "datasetVersion"
    }
   ],
   "dockerImageVersionId": 30635,
   "isGpuEnabled": false,
   "isInternetEnabled": false,
   "language": "python",
   "sourceType": "notebook"
  },
  "kernelspec": {
   "display_name": "Python 3",
   "language": "python",
   "name": "python3"
  },
  "language_info": {
   "codemirror_mode": {
    "name": "ipython",
    "version": 3
   },
   "file_extension": ".py",
   "mimetype": "text/x-python",
   "name": "python",
   "nbconvert_exporter": "python",
   "pygments_lexer": "ipython3",
   "version": "3.10.12"
  },
  "papermill": {
   "default_parameters": {},
   "duration": 53.208613,
   "end_time": "2024-01-18T16:26:50.462304",
   "environment_variables": {},
   "exception": null,
   "input_path": "__notebook__.ipynb",
   "output_path": "__notebook__.ipynb",
   "parameters": {},
   "start_time": "2024-01-18T16:25:57.253691",
   "version": "2.4.0"
  }
 },
 "nbformat": 4,
 "nbformat_minor": 5
}
